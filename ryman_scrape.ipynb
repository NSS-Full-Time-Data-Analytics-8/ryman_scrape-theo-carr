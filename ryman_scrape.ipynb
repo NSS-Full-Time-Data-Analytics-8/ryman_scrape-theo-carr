{
 "cells": [
  {
   "cell_type": "code",
   "execution_count": null,
   "id": "dcbade31",
   "metadata": {},
   "outputs": [],
   "source": [
    "import pandas as pd\n",
    "import requests\n",
    "from bs4 import BeautifulSoup as bs\n",
    "from IPython.core.display import HTML"
   ]
  },
  {
   "cell_type": "code",
   "execution_count": null,
   "id": "b19a04ac",
   "metadata": {},
   "outputs": [],
   "source": [
    "#url = \"https://ryman.com/events/\"\n",
    "base_url = 'https://ryman.com/events/list/?tribe_event_display=list&tribe_paged='\n",
    "page = '1'\n",
    "url = base_url + page\n",
    "#response = requests.get(URL)\n",
    "response = requests.get(url)"
   ]
  },
  {
   "cell_type": "code",
   "execution_count": null,
   "id": "fa423b75",
   "metadata": {},
   "outputs": [],
   "source": [
    "soup = bs(response.text)"
   ]
  },
  {
   "cell_type": "markdown",
   "id": "fef0df1a",
   "metadata": {},
   "source": [
    "# GET PERFORMERS LIST"
   ]
  },
  {
   "cell_type": "code",
   "execution_count": null,
   "id": "90e37d83",
   "metadata": {},
   "outputs": [],
   "source": [
    "#soup.find('table', attrs={'class' : 'wikitable'})\n",
    "acts = soup.findAll('h2', attrs = {'class':\"tribe-events-list-event-title\"})"
   ]
  },
  {
   "cell_type": "code",
   "execution_count": null,
   "id": "fe141d7e",
   "metadata": {},
   "outputs": [],
   "source": [
    "performer_list = [i.find('a').get('title') for i in acts]\n",
    "performer_list"
   ]
  },
  {
   "cell_type": "markdown",
   "id": "bbb9dcac",
   "metadata": {},
   "source": [
    "# GET DATE LIST"
   ]
  },
  {
   "cell_type": "code",
   "execution_count": null,
   "id": "6f344b94",
   "metadata": {},
   "outputs": [],
   "source": [
    "dates = soup.findAll('div', attrs = {'class':\"tribe-event-schedule-details\"})"
   ]
  },
  {
   "cell_type": "code",
   "execution_count": null,
   "id": "441df900",
   "metadata": {},
   "outputs": [],
   "source": [
    "dates_list = [i.find('p').text for i in dates]\n",
    "dates_list"
   ]
  },
  {
   "cell_type": "code",
   "execution_count": null,
   "id": "767908ff",
   "metadata": {},
   "outputs": [],
   "source": [
    "blank = pd.DataFrame()\n",
    "blank['event_title'] = performer_list\n",
    "blank['date'] = dates_list"
   ]
  },
  {
   "cell_type": "code",
   "execution_count": null,
   "id": "91c7c6ee",
   "metadata": {},
   "outputs": [],
   "source": [
    "blank"
   ]
  },
  {
   "cell_type": "markdown",
   "id": "c1ead4f9",
   "metadata": {},
   "source": [
    "# Loop through all the pages"
   ]
  },
  {
   "cell_type": "code",
   "execution_count": null,
   "id": "d38840a2",
   "metadata": {},
   "outputs": [],
   "source": [
    "base_url = 'https://ryman.com/events/list/?tribe_event_display=list&tribe_paged='\n",
    "running_performers = []\n",
    "running_dates = []\n",
    "running_open = []\n",
    "for j in range(1,6):\n",
    "    #set up url\n",
    "    page = str(j)\n",
    "    url  = base_url + page\n",
    "    #read url\n",
    "    response = requests.get(url)\n",
    "    #make soup\n",
    "    soup = bs(response.text)\n",
    "    #get performers\n",
    "    acts = soup.findAll('h2', attrs = {'class':\"tribe-events-list-event-title\"})\n",
    "    performer_list = [i.find('a').get('title') for i in acts]\n",
    "    #get date\n",
    "    dates = soup.findAll('div', attrs = {'class':\"tribe-event-schedule-details\"})\n",
    "    date_list = [i.find('p').text for i in dates]\n",
    "    #get opener\n",
    "    openers_list = []\n",
    "    boxes = soup.findAll('div', attrs = {'class',\"tribe-beside-image\"})\n",
    "    for x in boxes:\n",
    "        nonetest = x.find('span')\n",
    "        if nonetest == None:\n",
    "           openers_list.append('none')\n",
    "        else:\n",
    "            openers_list.append(nonetest.text)\n",
    "    #concat on to running lists\n",
    "    running_performers += performer_list\n",
    "    running_dates += date_list\n",
    "    running_open += openers_list\n",
    "#make data frame outside of loop\n",
    "ryman_events = pd.DataFrame()\n",
    "ryman_events['event'] = running_performers\n",
    "ryman_events['opener'] = running_open\n",
    "ryman_events['date'] = running_dates\n",
    "\n"
   ]
  },
  {
   "cell_type": "code",
   "execution_count": null,
   "id": "3e0ba62e",
   "metadata": {},
   "outputs": [],
   "source": [
    "ryman_events"
   ]
  },
  {
   "cell_type": "code",
   "execution_count": null,
   "id": "23113fe2",
   "metadata": {},
   "outputs": [],
   "source": [
    "ryman_events.opener.unique()"
   ]
  },
  {
   "cell_type": "markdown",
   "id": "20d645b5",
   "metadata": {},
   "source": [
    "# TEST BRINGING IN OPENER"
   ]
  },
  {
   "cell_type": "code",
   "execution_count": null,
   "id": "39e73d21",
   "metadata": {},
   "outputs": [],
   "source": [
    "soup.findAll('span',attrs = {'class':'opener'})"
   ]
  },
  {
   "cell_type": "code",
   "execution_count": null,
   "id": "a773f8a6",
   "metadata": {},
   "outputs": [],
   "source": [
    "test_boxes = soup.findAll('div', attrs = {'class',\"tribe-beside-image\"})"
   ]
  },
  {
   "cell_type": "code",
   "execution_count": null,
   "id": "99ea526e",
   "metadata": {
    "scrolled": true
   },
   "outputs": [],
   "source": [
    "test_boxes"
   ]
  },
  {
   "cell_type": "code",
   "execution_count": null,
   "id": "4aa43b48",
   "metadata": {},
   "outputs": [],
   "source": [
    "test_boxes[2]"
   ]
  },
  {
   "cell_type": "code",
   "execution_count": null,
   "id": "83cb7a54",
   "metadata": {},
   "outputs": [],
   "source": [
    "#case where there is no opener\n",
    "x = boxes[3].find('span') \n",
    "if x == None:\n",
    "    print('none')\n",
    "else:\n",
    "    print(x.text)"
   ]
  },
  {
   "cell_type": "code",
   "execution_count": null,
   "id": "889a8838",
   "metadata": {},
   "outputs": [],
   "source": [
    "for i in boxes:\n",
    "    print(i)\n",
    "    "
   ]
  },
  {
   "cell_type": "markdown",
   "id": "9a2d12b0",
   "metadata": {},
   "source": [
    "# fixing opener column\n",
    "#### right now it is bringing in subheader instead of opener for some"
   ]
  },
  {
   "cell_type": "code",
   "execution_count": null,
   "id": "2d57f785",
   "metadata": {},
   "outputs": [],
   "source": [
    "base_url = 'https://ryman.com/events/list/?tribe_event_display=list&tribe_paged='\n",
    "running_performers = []\n",
    "running_dates = []\n",
    "running_open = []\n",
    "for j in range(1,6):\n",
    "    #set up url\n",
    "    page = str(j)\n",
    "    url  = base_url + page\n",
    "    #read url\n",
    "    response = requests.get(url)\n",
    "    #make soup\n",
    "    soup = bs(response.text)\n",
    "    #get performers\n",
    "    acts = soup.findAll('h2', attrs = {'class':\"tribe-events-list-event-title\"})\n",
    "    performer_list = [i.find('a').get('title') for i in acts]\n",
    "    #get date\n",
    "    dates = soup.findAll('div', attrs = {'class':\"tribe-event-schedule-details\"})\n",
    "    date_list = [i.find('p').text for i in dates]\n",
    "    #get opener\n",
    "    openers_list = []\n",
    "    boxes = soup.findAll('div', attrs = {'class',\"tribe-beside-image\"})\n",
    "    for x in boxes:\n",
    "        curr = x.findAll('span')\n",
    "        lenc = len(curr)\n",
    "        if lenc == 0:\n",
    "            openers_list.append('no opener')\n",
    "        elif lenc == 1:\n",
    "            if curr[0].text == '2nd Show Added!':\n",
    "                openers_list.append('no opener')\n",
    "            else:\n",
    "                openers_list.append(curr[0].text)\n",
    "        else:\n",
    "            openers_list.append(curr[1].text)\n",
    "    #concat on to running lists\n",
    "    running_performers += performer_list\n",
    "    running_dates += date_list\n",
    "    running_open += openers_list\n",
    "#make data frame outside of loop\n",
    "ryman_events = pd.DataFrame()\n",
    "ryman_events['event'] = running_performers\n",
    "ryman_events['details'] = running_open\n",
    "ryman_events['date'] = running_dates\n"
   ]
  },
  {
   "cell_type": "code",
   "execution_count": null,
   "id": "fc62d9ca",
   "metadata": {},
   "outputs": [],
   "source": [
    "ryman_events"
   ]
  },
  {
   "cell_type": "markdown",
   "id": "d27de811",
   "metadata": {},
   "source": [
    "# Bonus 2: Add in ticket prices"
   ]
  },
  {
   "cell_type": "markdown",
   "id": "09dc0ac5",
   "metadata": {},
   "source": [
    "overall plan \n",
    "1. see if the link  is embedded in the more information button\n",
    "2. use that link to go to page that has price info\n",
    "3. draw out price info\n",
    "4. add into our dataframe!\n",
    "\n",
    "a. just get it working on first entry\n",
    "\n",
    "b. then implement to work in the loop and do it for every entry in the first five pages"
   ]
  },
  {
   "cell_type": "code",
   "execution_count": null,
   "id": "c916d1ee",
   "metadata": {},
   "outputs": [],
   "source": [
    "page1 = \"https://ryman.com/events/\"\n",
    "tempresponse = requests.get(page1)\n",
    "notsoup = bs(tempresponse.text)\n",
    "price_links = notsoup.findAll('h2', attrs = {'class':\"tribe-events-list-event-title\"})"
   ]
  },
  {
   "cell_type": "code",
   "execution_count": null,
   "id": "7060858d",
   "metadata": {},
   "outputs": [],
   "source": [
    "new_urls = [x.find('a').get('href') for x in price_links]"
   ]
  },
  {
   "cell_type": "code",
   "execution_count": null,
   "id": "3f250e49",
   "metadata": {},
   "outputs": [],
   "source": [
    "running_price_list = []\n",
    "for url in new_urls:\n",
    "    inner_response = requests.get(url)\n",
    "    temp_soup = bs(inner_response.text)\n",
    "    \n",
    "    price_html = temp_soup.find('p', attrs = {'class':'theprices'})\n",
    "    if price_html != None:\n",
    "        running_price_list.append(price_html.text)\n",
    "    else:\n",
    "        running_price_list.append('something fishy')\n",
    "running_price_list"
   ]
  },
  {
   "cell_type": "code",
   "execution_count": null,
   "id": "f9bdb1ea",
   "metadata": {},
   "outputs": [],
   "source": [
    "#<p class=\"theprices\">$45 / $35</p>\n",
    "small_soup.find('p', attrs = {'class': 'theprices'})"
   ]
  },
  {
   "cell_type": "code",
   "execution_count": null,
   "id": "8f304861",
   "metadata": {},
   "outputs": [],
   "source": [
    "print(prices)"
   ]
  },
  {
   "cell_type": "markdown",
   "id": "270a12d6",
   "metadata": {},
   "source": [
    "## Add it into the loop"
   ]
  },
  {
   "cell_type": "code",
   "execution_count": null,
   "id": "e71e653d",
   "metadata": {},
   "outputs": [],
   "source": [
    "base_url = 'https://ryman.com/events/list/?tribe_event_display=list&tribe_paged='\n",
    "running_performers = []\n",
    "running_dates = []\n",
    "running_open = []\n",
    "running_price = []\n",
    "for j in range(1,6):\n",
    "    #set up url\n",
    "    page = str(j)\n",
    "    url  = base_url + page\n",
    "    #read url\n",
    "    response = requests.get(url)\n",
    "    #make soup\n",
    "    soup = bs(response.text)\n",
    "    #get performers\n",
    "    acts = soup.findAll('h2', attrs = {'class':\"tribe-events-list-event-title\"})\n",
    "    performer_list = [i.find('a').get('title') for i in acts]\n",
    "    #get date\n",
    "    dates = soup.findAll('div', attrs = {'class':\"tribe-event-schedule-details\"})\n",
    "    date_list = [i.find('p').text for i in dates]\n",
    "   \n",
    "    #get price\n",
    "    price_links = soup.findAll('h2', attrs = {'class':\"tribe-events-list-event-title\"})\n",
    "    \n",
    "    new_urls = [x.find('a').get('href') for x in price_links]\n",
    "        \n",
    "    running_price_list = []\n",
    "    for newlink in new_urls:\n",
    "        inner_response = requests.get(newlink)\n",
    "        temp_soup = bs(inner_response.text)\n",
    "    \n",
    "        price_html = temp_soup.find('p', attrs = {'class':'theprices'})\n",
    "        if price_html == None:\n",
    "            running_price_list.append('CANCELED')\n",
    "        else:\n",
    "            running_price_list.append(price_html.text)\n",
    "    \n",
    "        \n",
    "          \n",
    "        \n",
    "        \n",
    "    \n",
    "    #get opener\n",
    "    openers_list = []\n",
    "    boxes = soup.findAll('div', attrs = {'class',\"tribe-beside-image\"})\n",
    "    for x in boxes:\n",
    "        curr = x.findAll('span')\n",
    "        lenc = len(curr)\n",
    "        if lenc == 0:\n",
    "            openers_list.append('no opener')\n",
    "        elif lenc == 1:\n",
    "            if curr[0].text == '2nd Show Added!':\n",
    "                openers_list.append('no opener')\n",
    "            else:\n",
    "                openers_list.append(curr[0].text)\n",
    "        else:\n",
    "            openers_list.append(curr[1].text)\n",
    "    #concat on to running lists\n",
    "    running_performers += performer_list\n",
    "    running_dates += date_list\n",
    "    running_open += openers_list\n",
    "    running_price += running_price_list\n",
    "#make data frame outside of loop\n",
    "ryman_events = pd.DataFrame()\n",
    "ryman_events['event'] = running_performers\n",
    "ryman_events['details'] = running_open\n",
    "ryman_events['date'] = running_dates\n",
    "ryman_events['price'] = running_price\n"
   ]
  },
  {
   "cell_type": "code",
   "execution_count": null,
   "id": "99442cc1",
   "metadata": {},
   "outputs": [],
   "source": [
    "ryman_events"
   ]
  },
  {
   "cell_type": "code",
   "execution_count": null,
   "id": "939540c7",
   "metadata": {},
   "outputs": [],
   "source": [
    "ryman_events.price.unique()"
   ]
  },
  {
   "cell_type": "markdown",
   "id": "b082741a",
   "metadata": {},
   "source": [
    "# Price info is in \n",
    "#### Next Project could be cleaning up the price data into something more usable\n",
    "#### Clean up opener column"
   ]
  },
  {
   "cell_type": "code",
   "execution_count": null,
   "id": "8f7c5497",
   "metadata": {},
   "outputs": [],
   "source": [
    "sample_price = '$52.50 / $49.50 / $21'\n",
    "event_prices = sample_price.split('/')\n",
    "max_price = float(event_prices[0].strip('$'))\n",
    "print(max_price)"
   ]
  },
  {
   "cell_type": "code",
   "execution_count": null,
   "id": "c2a8eb43",
   "metadata": {},
   "outputs": [],
   "source": []
  }
 ],
 "metadata": {
  "kernelspec": {
   "display_name": "Python 3 (ipykernel)",
   "language": "python",
   "name": "python3"
  },
  "language_info": {
   "codemirror_mode": {
    "name": "ipython",
    "version": 3
   },
   "file_extension": ".py",
   "mimetype": "text/x-python",
   "name": "python",
   "nbconvert_exporter": "python",
   "pygments_lexer": "ipython3",
   "version": "3.9.13"
  }
 },
 "nbformat": 4,
 "nbformat_minor": 5
}
