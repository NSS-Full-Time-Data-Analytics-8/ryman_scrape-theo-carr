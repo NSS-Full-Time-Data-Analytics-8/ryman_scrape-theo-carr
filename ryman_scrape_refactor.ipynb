{
 "cells": [
  {
   "cell_type": "code",
   "execution_count": null,
   "id": "dcbade31",
   "metadata": {},
   "outputs": [],
   "source": [
    "import pandas as pd\n",
    "import requests\n",
    "from bs4 import BeautifulSoup as bs\n",
    "from IPython.core.display import HTML"
   ]
  },
  {
   "cell_type": "markdown",
   "id": "270a12d6",
   "metadata": {},
   "source": [
    "# Scraping Loop"
   ]
  },
  {
   "cell_type": "code",
   "execution_count": null,
   "id": "e71e653d",
   "metadata": {},
   "outputs": [],
   "source": [
    "base_url = 'https://ryman.com/events/list/?tribe_event_display=list&tribe_paged='\n",
    "#empty lists taht will be added to throughout the loop for each page\n",
    "#will eventually be the columns of the dataframe\n",
    "running_performers = []\n",
    "running_dates = []\n",
    "running_times = []\n",
    "running_open = []\n",
    "running_price = []\n",
    "for j in range(1,6):\n",
    "    #set up url\n",
    "    page = str(j)\n",
    "    #current page url\n",
    "    url  = base_url + page\n",
    "    #read url\n",
    "    response = requests.get(url)\n",
    "    #make soup\n",
    "    soup = bs(response.text)\n",
    "    #get performers\n",
    "    acts = soup.findAll('h2', attrs = {'class':\"tribe-events-list-event-title\"})\n",
    "    performer_list = [i.find('a').get('title') for i in acts]\n",
    "    #get date\n",
    "    dates = soup.findAll('div', attrs = {'class':\"tribe-event-schedule-details\"})\n",
    "    date_info_list = [i.find('p').text for i in dates]\n",
    "    ###split dates into date and time\n",
    "    datelist = []\n",
    "    timelist  = []\n",
    "    for x in date_info_list:\n",
    "        split = x.split(' at ')\n",
    "        datelist.append(split[0])\n",
    "        timelist.append(split[1])\n",
    "           \n",
    "   \n",
    "    #get price\n",
    "    price_links = soup.findAll('h2', attrs = {'class':\"tribe-events-list-event-title\"})\n",
    "    \n",
    "    new_urls = [x.find('a').get('href') for x in price_links]\n",
    "        \n",
    "    running_price_list = []\n",
    "    for newlink in new_urls:\n",
    "        inner_response = requests.get(newlink)\n",
    "        temp_soup = bs(inner_response.text)\n",
    "    \n",
    "        price_html = temp_soup.find('p', attrs = {'class':'theprices'})\n",
    "        if price_html == None:\n",
    "            running_price_list.append('CANCELED')\n",
    "        else:\n",
    "            running_price_list.append(price_html.text)\n",
    "    #get opener\n",
    "    openers_list = []\n",
    "    boxes = soup.findAll('div', attrs = {'class',\"tribe-beside-image\"})\n",
    "    for x in boxes:\n",
    "        curr = x.findAll('span')\n",
    "        lenc = len(curr)\n",
    "        if lenc == 0:\n",
    "            openers_list.append('no opener')\n",
    "        elif lenc == 1:\n",
    "            if curr[0].text == '2nd Show Added!':\n",
    "                openers_list.append('no opener')\n",
    "            else:\n",
    "                openers_list.append(curr[0].text)\n",
    "        else:\n",
    "            openers_list.append(curr[1].text)\n",
    "    #concat on to running lists\n",
    "    running_performers += performer_list\n",
    "    running_dates += datelist\n",
    "    running_times += timelist\n",
    "    running_open += openers_list\n",
    "    running_price += running_price_list\n",
    "#make data frame outside of loop\n",
    "ryman_events = pd.DataFrame()\n",
    "ryman_events['event'] = running_performers\n",
    "ryman_events['details'] = running_open\n",
    "ryman_events['date'] = running_dates\n",
    "ryman_events['time'] = running_times\n",
    "ryman_events['price'] = running_price\n"
   ]
  },
  {
   "cell_type": "code",
   "execution_count": null,
   "id": "99442cc1",
   "metadata": {},
   "outputs": [],
   "source": [
    "ryman_events"
   ]
  },
  {
   "cell_type": "markdown",
   "id": "b786a2d9",
   "metadata": {},
   "source": [
    "# Cleaning up table columns"
   ]
  },
  {
   "cell_type": "markdown",
   "id": "927774ef",
   "metadata": {},
   "source": [
    "#### Price column"
   ]
  },
  {
   "cell_type": "code",
   "execution_count": null,
   "id": "458bd91b",
   "metadata": {},
   "outputs": [],
   "source": [
    "new_price_col = []\n",
    "for price in ryman_events.price:\n",
    "    if price[0] != '$':\n",
    "        if price[0] == \"C\": \n",
    "            new_price_col.append('Canceled')\n",
    "        else:\n",
    "            new_price_col.append('Tickets Available for Purchase Elsewhere')\n",
    "    else:\n",
    "        price_split = price.split('/')\n",
    "        if price_split[-1].find('Groups') == -1:\n",
    "            for index, value in enumerate(price_split):\n",
    "                price_split[index] = float(value.strip(' ').strip('$'))\n",
    "            avg_price = sum(price_split) / float(len(price_split))\n",
    "            new_price_col.append(\"%.2f\" % avg_price)\n",
    "        else: #case where there is groups on the end of price\n",
    "            price_split[-1] = price_split[-1].strip().strip('(Groups)').strip('$').strip()\n",
    "            for index, value in enumerate(price_split):\n",
    "                price_split[index] = float(value.strip(' ').strip('$'))\n",
    "                                           \n",
    "            avg_price = sum(price_split) / float(len(price_split))\n",
    "            new_price_col.append(\"%.2f\" % avg_price)\n",
    "ryman_events['price'] = new_price_col\n",
    "ryman_events = ryman_events.rename(columns = {'price':'avg_ticket_price'})"
   ]
  },
  {
   "cell_type": "code",
   "execution_count": null,
   "id": "9bc44ece",
   "metadata": {},
   "outputs": [],
   "source": [
    "ryman_events"
   ]
  },
  {
   "cell_type": "markdown",
   "id": "de8d4be9",
   "metadata": {},
   "source": [
    "# Graph prices"
   ]
  },
  {
   "cell_type": "code",
   "execution_count": null,
   "id": "5b1de24b",
   "metadata": {},
   "outputs": [],
   "source": [
    "noncancel_events = ryman_events.loc[~(ryman_events['avg_ticket_price'] == 'Canceled')]"
   ]
  },
  {
   "cell_type": "code",
   "execution_count": null,
   "id": "ee89f69c",
   "metadata": {},
   "outputs": [],
   "source": [
    "noncancel_events = noncancel_events.loc[~(noncancel_events['avg_ticket_price'] == \n",
    "                                          'Tickets Available for Purchase Elsewhere')]"
   ]
  },
  {
   "cell_type": "code",
   "execution_count": null,
   "id": "8d07bb5e",
   "metadata": {},
   "outputs": [],
   "source": [
    "noncancel_events['avg_ticket_price'] = noncancel_events['avg_ticket_price'].astype('float')"
   ]
  },
  {
   "cell_type": "code",
   "execution_count": null,
   "id": "dc545e68",
   "metadata": {},
   "outputs": [],
   "source": [
    "noncancel_events['date'] = pd.to_datetime(noncancel_events['date'])"
   ]
  },
  {
   "cell_type": "code",
   "execution_count": null,
   "id": "aa0a5130",
   "metadata": {},
   "outputs": [],
   "source": [
    "import matplotlib.pyplot as plt\n",
    "import seaborn as sns"
   ]
  },
  {
   "cell_type": "code",
   "execution_count": null,
   "id": "da4ac8c0",
   "metadata": {},
   "outputs": [],
   "source": [
    "fig, ax = plt.subplots(figsize = (12,6))\n",
    "plt.plot(noncancel_events.date,noncancel_events.avg_ticket_price)\n",
    "plt.xlabel('date')\n",
    "plt.ylabel('price USD')\n",
    "plt.suptitle('avg ticket price per show')"
   ]
  },
  {
   "cell_type": "code",
   "execution_count": null,
   "id": "0adb6aa6",
   "metadata": {},
   "outputs": [],
   "source": []
  }
 ],
 "metadata": {
  "kernelspec": {
   "display_name": "Python 3 (ipykernel)",
   "language": "python",
   "name": "python3"
  },
  "language_info": {
   "codemirror_mode": {
    "name": "ipython",
    "version": 3
   },
   "file_extension": ".py",
   "mimetype": "text/x-python",
   "name": "python",
   "nbconvert_exporter": "python",
   "pygments_lexer": "ipython3",
   "version": "3.9.13"
  }
 },
 "nbformat": 4,
 "nbformat_minor": 5
}
